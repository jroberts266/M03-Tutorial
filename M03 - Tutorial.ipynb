{
 "cells": [
  {
   "cell_type": "code",
   "execution_count": 1,
   "id": "2b1350f5",
   "metadata": {},
   "outputs": [
    {
     "name": "stdout",
     "output_type": "stream",
     "text": [
      "Name:  maple\n",
      "Age:  4\n",
      "Color:  auburn\n",
      "Notes:  cranky when there are loud noises\n",
      "Name:  Coco\n",
      "Age:  12\n",
      "Color:  White\n",
      "Notes:  She is deaf, but can sit and and stay with hand signals\n",
      "Name:  Trouble\n",
      "Age:  22\n",
      "Color:  brindle\n",
      "Notes:  Food aggessive, but loves eating hot dogs\n"
     ]
    }
   ],
   "source": [
    "class Pet:\n",
    "    def __init__(self, petType, name, age, weight, color, isVaccinated, note):\n",
    "        self.petType = petType\n",
    "        self.name = name\n",
    "        self.age = age\n",
    "        self.weight = weight\n",
    "        self.color = color\n",
    "        self.isVaccinated = isVaccinated\n",
    "        self.note = note\n",
    "\n",
    "class Dog(Pet):\n",
    "    def __init__(self, isNeutered, isSpayed):\n",
    "        self.isNeutered = isNeutered\n",
    "        self.isSpayed = isSpayed\n",
    "  \n",
    "    def dogRecord(self):\n",
    "        print(\"Name: \", self.name)\n",
    "        print(\"Age: \", self.age)\n",
    "        print(\"Color: \", self.color)\n",
    "        print(\"Notes: \", self.note)\n",
    "\n",
    "class Cat(Pet):\n",
    "    def __init__(self, isNeutered, isSpayed):\n",
    "        self.isNeutered = isNeutered\n",
    "        self.isSpayed = isSpayed\n",
    "\n",
    "    def catRecord(self):\n",
    "        print(\"Name: \", self.name)\n",
    "        print(\"Age: \", self.age)\n",
    "        print(\"Color: \", self.color)\n",
    "        print(\"Notes: \", self.note)\n",
    "\n",
    "pet1 = Pet(\"cat\", \"maple\", \"4\", \"10 lbs\",\"auburn\", \"yes\", \"cranky when there are loud noises\",)\n",
    "pet2 = Pet(\"dog\", \"Coco\", \"12\", \"35 lbs\", \"White\", \"Yes\", \"She is deaf, but can sit and and stay with hand signals\")\n",
    "pet3 = Pet(\"dog\", \"Trouble\", \"22\", \"40 lbs\", \"brindle\", \"No\", \"Food aggessive, but loves eating hot dogs\")\n",
    "pet = Cat.catRecord(pet1)\n",
    "pet = Dog.dogRecord(pet2)\n",
    "pet = Dog.dogRecord(pet3)"
   ]
  },
  {
   "cell_type": "code",
   "execution_count": null,
   "id": "95ebf66c",
   "metadata": {},
   "outputs": [],
   "source": []
  }
 ],
 "metadata": {
  "kernelspec": {
   "display_name": "Python 3 (ipykernel)",
   "language": "python",
   "name": "python3"
  },
  "language_info": {
   "codemirror_mode": {
    "name": "ipython",
    "version": 3
   },
   "file_extension": ".py",
   "mimetype": "text/x-python",
   "name": "python",
   "nbconvert_exporter": "python",
   "pygments_lexer": "ipython3",
   "version": "3.9.13"
  }
 },
 "nbformat": 4,
 "nbformat_minor": 5
}
